{
 "cells": [
  {
   "cell_type": "code",
   "execution_count": 1,
   "id": "ee9c61ea",
   "metadata": {},
   "outputs": [],
   "source": [
    "def levenshtein(s1, s2, debug=False):\n",
    "    if len(s1) < len(s2):\n",
    "        return levenshtein(s2, s1, debug)\n",
    "\n",
    "    if len(s2) == 0:\n",
    "        return len(s1)\n",
    "\n",
    "    previous_row = range(len(s2) + 1)\n",
    "    for i, c1 in enumerate(s1):\n",
    "        current_row = [i + 1]\n",
    "        for j, c2 in enumerate(s2):\n",
    "            insertions = previous_row[j + 1] + 1\n",
    "            deletions = current_row[j] + 1\n",
    "            substitutions = previous_row[j] + (c1 != c2)\n",
    "            current_row.append(min(insertions, deletions, substitutions))\n",
    "\n",
    "        if debug:\n",
    "            print(current_row[1:])\n",
    "\n",
    "        previous_row = current_row\n",
    "\n",
    "    return previous_row[-1]"
   ]
  },
  {
   "cell_type": "code",
   "execution_count": 2,
   "id": "524facbf",
   "metadata": {},
   "outputs": [
    {
     "name": "stdout",
     "output_type": "stream",
     "text": [
      "[1, 2, 3, 4, 5]\n",
      "[2, 2, 3, 4, 5]\n",
      "[3, 3, 3, 4, 5]\n",
      "[4, 4, 4, 4, 5]\n",
      "[4, 5, 5, 4, 5]\n",
      "[5, 4, 5, 5, 4]\n"
     ]
    },
    {
     "data": {
      "text/plain": [
       "4"
      ]
     },
     "execution_count": 2,
     "metadata": {},
     "output_type": "execute_result"
    }
   ],
   "source": [
    "s1 = '꿈을꾸는아이'\n",
    "s2 = '아이오아이'\n",
    "levenshtein(s1, s2, debug=True)"
   ]
  },
  {
   "cell_type": "code",
   "execution_count": 3,
   "id": "81c893c9",
   "metadata": {},
   "outputs": [
    {
     "name": "stdout",
     "output_type": "stream",
     "text": [
      "[1, 2, 3, 4, 5, 6, 6, 7]\n",
      "[2, 2, 3, 4, 5, 6, 7, 6]\n",
      "[3, 3, 3, 4, 4, 5, 6, 7]\n",
      "[4, 4, 3, 4, 5, 4, 5, 6]\n",
      "[4, 5, 4, 4, 5, 5, 5, 6]\n",
      "[5, 4, 5, 5, 5, 6, 6, 6]\n",
      "[6, 5, 4, 5, 6, 5, 6, 7]\n",
      "[7, 6, 5, 5, 6, 6, 6, 7]\n",
      "[8, 7, 6, 6, 6, 7, 7, 7]\n"
     ]
    },
    {
     "data": {
      "text/plain": [
       "7"
      ]
     },
     "execution_count": 3,
     "metadata": {},
     "output_type": "execute_result"
    }
   ],
   "source": [
    "s1 = '꿈을 꾸는 아이'\n",
    "s2 = '아이는 꿈을 꿔요'\n",
    "levenshtein(s1, s2, debug=True)"
   ]
  },
  {
   "cell_type": "code",
   "execution_count": null,
   "id": "746e631e",
   "metadata": {},
   "outputs": [],
   "source": [
    "s1 = '꿈을 꾸는 아이'\n",
    "s2 = '아이는 꿈을 꿔요'\n",
    "levenshtein(s1.split(), s2.split(), debug=True)"
   ]
  },
  {
   "cell_type": "code",
   "execution_count": null,
   "id": "8b5b3650",
   "metadata": {},
   "outputs": [],
   "source": [
    "def jamo_levenshtein(s1, s2, debug=False):\n",
    "    if len(s1) < len(s2):\n",
    "        return jamo_levenshtein(s2, s1, debug)\n",
    "\n",
    "    if len(s2) == 0:\n",
    "        return len(s1)\n",
    "\n",
    "    def substitution_cost(c1, c2):\n",
    "        if c1 == c2:\n",
    "            return 0\n",
    "        return levenshtein(decompose(c1), decompose(c2))/3\n",
    "\n",
    "    previous_row = range(len(s2) + 1)\n",
    "    for i, c1 in enumerate(s1):\n",
    "        current_row = [i + 1]\n",
    "        for j, c2 in enumerate(s2):\n",
    "            insertions = previous_row[j + 1] + 1\n",
    "            deletions = current_row[j] + 1\n",
    "            # Changed\n",
    "            substitutions = previous_row[j] + substitution_cost(c1, c2)\n",
    "            current_row.append(min(insertions, deletions, substitutions))\n",
    "\n",
    "        if debug:\n",
    "            print(['%.3f'%v for v in current_row[1:]])\n",
    "\n",
    "        previous_row = current_row\n",
    "\n",
    "    return previous_row[-1]"
   ]
  },
  {
   "cell_type": "code",
   "execution_count": null,
   "id": "07563898",
   "metadata": {},
   "outputs": [],
   "source": [
    "s1 = '아이쿠야'\n",
    "s2 = '아이쿵야'\n",
    "jamo_levenshtein(s1, s2, debug=True)"
   ]
  },
  {
   "cell_type": "code",
   "execution_count": null,
   "id": "0cb970fc",
   "metadata": {},
   "outputs": [],
   "source": [
    "s1 = '훍앜이쿠야'\n",
    "s2 = '아이쿵야'\n",
    "jamo_levenshtein(s1, s2, debug=True)"
   ]
  }
 ],
 "metadata": {
  "kernelspec": {
   "display_name": "Python 3",
   "language": "python",
   "name": "python3"
  },
  "language_info": {
   "codemirror_mode": {
    "name": "ipython",
    "version": 3
   },
   "file_extension": ".py",
   "mimetype": "text/x-python",
   "name": "python",
   "nbconvert_exporter": "python",
   "pygments_lexer": "ipython3",
   "version": "3.8.8"
  }
 },
 "nbformat": 4,
 "nbformat_minor": 5
}
