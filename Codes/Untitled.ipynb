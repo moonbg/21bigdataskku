{
 "cells": [
  {
   "cell_type": "code",
   "execution_count": null,
   "id": "dc6d209c",
   "metadata": {},
   "outputs": [],
   "source": [
    "create database grantdata;\n",
    "use grantdata;\n",
    "create table Investigators (\n",
    "ID int auto_increment,\n",
    "Name varchar(100) not null,\n",
    "Institution varchar(256) not null,\n",
    "8 Email varchar(100),\n",
    "primary key(ID)\n",
    "10 );\n",
    "12 create table Grants (\n",
    "Number int not null,\n",
    "14 Person int not null,\n",
    "Funding float unsigned not null,\n",
    "16 Program varchar(100),\n",
    "primary key(Number)\n",
    "18 );"
   ]
  }
 ],
 "metadata": {
  "kernelspec": {
   "display_name": "Python 3",
   "language": "python",
   "name": "python3"
  },
  "language_info": {
   "codemirror_mode": {
    "name": "ipython",
    "version": 3
   },
   "file_extension": ".py",
   "mimetype": "text/x-python",
   "name": "python",
   "nbconvert_exporter": "python",
   "pygments_lexer": "ipython3",
   "version": "3.8.8"
  }
 },
 "nbformat": 4,
 "nbformat_minor": 5
}
