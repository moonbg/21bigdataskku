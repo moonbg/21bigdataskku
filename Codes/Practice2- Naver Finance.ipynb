{
 "cells": [
  {
   "cell_type": "code",
   "execution_count": 2,
   "id": "48918736",
   "metadata": {},
   "outputs": [],
   "source": [
    "    import requests\n",
    "    from bs4 import BeautifulSoup\n",
    "\n",
    "    from openpyxl import Workbook\n",
    "\n",
    "    url = 'https://finance.naver.com/'\n",
    "\n",
    "    response = requests.get(url)\n",
    "    response.raise_for_status()\n",
    "    html = response.text\n",
    "    soup = BeautifulSoup(html, 'html.parser')\n",
    "    tbody = soup.select_one('#container > div.aside > div.group_aside > div.aside_area.aside_popular > table > tbody')\n",
    "    trs = tbody.select('tr')\n",
    "    datas = []\n",
    "    for tr in trs:\n",
    "        name = tr.select_one('th > a').get_text()\n",
    "        current_price = tr.select_one('td').get_text() \n",
    "        change_direction = tr['class'][0]\n",
    "        change_price = tr.select_one('td > span').get_text()\n",
    "        datas.append([name, current_price, change_direction, change_price])\n",
    "\n",
    "\n",
    "    write_wb = Workbook()\n",
    "    write_ws = write_wb.create_sheet('결과')\n",
    "    for data in datas:\n",
    "        write_ws.append(data)\n",
    "\n",
    "    write_wb.save(r'C:\\Users\\user7\\Desktop\\21Bigdata\\1.xlsx')\n"
   ]
  },
  {
   "cell_type": "code",
   "execution_count": null,
   "id": "2b726485",
   "metadata": {},
   "outputs": [],
   "source": []
  }
 ],
 "metadata": {
  "kernelspec": {
   "display_name": "Python 3",
   "language": "python",
   "name": "python3"
  },
  "language_info": {
   "codemirror_mode": {
    "name": "ipython",
    "version": 3
   },
   "file_extension": ".py",
   "mimetype": "text/x-python",
   "name": "python",
   "nbconvert_exporter": "python",
   "pygments_lexer": "ipython3",
   "version": "3.8.8"
  }
 },
 "nbformat": 4,
 "nbformat_minor": 5
}
