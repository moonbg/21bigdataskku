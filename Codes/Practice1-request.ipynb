{
 "cells": [
  {
   "cell_type": "code",
   "execution_count": 18,
   "id": "c71f99a5",
   "metadata": {},
   "outputs": [
    {
     "name": "stdout",
     "output_type": "stream",
     "text": [
      "총 10 개의 뉴스 제목이 있습니다\n",
      "\n",
      "애플, ‘iWork’ 생산성 앱 업데이트 진행\n",
      "32조 상속받은 애플 잡스 부인, 지구 살리는 데 4조원 쓴다\n",
      "애플, 포항에 ‘SW 개발자 아카데미’ 설립·운영\n",
      "中 전력난, 반도체 부족에 애플·테슬라까지 확산\n",
      "아이패드 미니6 '젤리 스크롤' 문제, 애플 \"LCD의 정상적 동작\"\n",
      "포항, '애플' 품다…포스텍에 아카데미·R&D 650억 투자\n",
      "세계 기업 가치 1위 '애플'...경북 포항에 둥지 튼다\n",
      "애플, 포항에 中企 R&D센터…구글 “한국 스타트업 육성”\n",
      "애플, 아마존, 구글 등 주가 잇따라 급락\n",
      "빅테크 때리기 이어지자… 콧대 높은 애플까지 ‘상생’ 외친다\n"
     ]
    }
   ],
   "source": [
    "import requests\n",
    "from bs4 import BeautifulSoup\n",
    "\n",
    "search_keyword = '애플'\n",
    "url = f'https://search.naver.com/search.naver?where=news&sm=tab_jum&query={search_keyword}'\n",
    "\n",
    "r = requests.get(url)\n",
    "soup = BeautifulSoup(r.text, 'html.parser')\n",
    "news_titles = soup.select('.sp_nnews .news_wrap .news_tit')\n",
    "\n",
    "print('총', len(news_titles), '개의 뉴스 제목이 있습니다')\n",
    "print()\n",
    "for title in news_titles:\n",
    "    print(title['title'])"
   ]
  },
  {
   "cell_type": "code",
   "execution_count": null,
   "id": "18c8819c",
   "metadata": {},
   "outputs": [],
   "source": []
  }
 ],
 "metadata": {
  "kernelspec": {
   "display_name": "Python 3",
   "language": "python",
   "name": "python3"
  },
  "language_info": {
   "codemirror_mode": {
    "name": "ipython",
    "version": 3
   },
   "file_extension": ".py",
   "mimetype": "text/x-python",
   "name": "python",
   "nbconvert_exporter": "python",
   "pygments_lexer": "ipython3",
   "version": "3.8.8"
  }
 },
 "nbformat": 4,
 "nbformat_minor": 5
}
