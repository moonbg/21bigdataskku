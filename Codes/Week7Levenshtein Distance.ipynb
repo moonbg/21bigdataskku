{
 "cells": [
  {
   "cell_type": "code",
   "execution_count": null,
   "metadata": {},
   "outputs": [],
   "source": [
    "import numpy as np"
   ]
  },
  {
   "cell_type": "code",
   "execution_count": null,
   "metadata": {},
   "outputs": [],
   "source": [
    "def levenshtein_distance(str1, str2):\n",
    "    \n",
    "    '''Aim is to build a 2D matrix and track the cost or changes required\n",
    "       by comparing each both strings character by character.\n",
    "    ''' \n",
    "    # Initialize the zero matrix  \n",
    "    row_length = len(str1)+1\n",
    "    col_length = len(str2)+1\n",
    "    distance = np.zeros((row_length,col_length),dtype = int)\n",
    "    \n",
    "    # Populate matrix of zeros with the indices of each character of both strings\n",
    "    for i in range(1, row_length):\n",
    "        for k in range(1,col_length):\n",
    "            distance[i][0] = i\n",
    "            distance[0][k] = k\n",
    "            \n",
    "    # writng loops to find the cost of deletion, addition and substitution    \n",
    "    for col in range(1, col_length):\n",
    "        for row in range(1, row_length):\n",
    "            if str1[row-1] == str2[col-1]:\n",
    "                cost = 0 # If the characters are the same in the two strings in a given position [i,j] then the cost is 0\n",
    "            else:\n",
    "                cost = 1\n",
    "                \n",
    "            distance[row][col] = min(distance[row-1][col] + 1,      # Cost of removal\n",
    "                                 distance[row][col-1] + 1,          # Cost of addition\n",
    "                                 distance[row-1][col-1] + cost)     # Cost of substitution\n",
    "            \n",
    "    distance = distance[row][col]\n",
    "    \n",
    "    return \"The strings are {} edits away\".format(distance)"
   ]
  },
  {
   "cell_type": "code",
   "execution_count": null,
   "metadata": {},
   "outputs": [],
   "source": [
    "levenshtein_distance('Shallow','Follow')"
   ]
  },
  {
   "cell_type": "code",
   "execution_count": null,
   "metadata": {},
   "outputs": [],
   "source": [
    "levenshtein_ratio_and_distance('start','finish')"
   ]
  }
 ],
 "metadata": {
  "kernelspec": {
   "display_name": "Python 3",
   "language": "python",
   "name": "python3"
  },
  "language_info": {
   "codemirror_mode": {
    "name": "ipython",
    "version": 3
   },
   "file_extension": ".py",
   "mimetype": "text/x-python",
   "name": "python",
   "nbconvert_exporter": "python",
   "pygments_lexer": "ipython3",
   "version": "3.7.4"
  }
 },
 "nbformat": 4,
 "nbformat_minor": 2
}
