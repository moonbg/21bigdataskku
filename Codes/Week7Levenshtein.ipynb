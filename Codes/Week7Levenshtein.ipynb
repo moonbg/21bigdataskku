{
 "cells": [
  {
   "cell_type": "code",
   "execution_count": 1,
   "id": "636723a6",
   "metadata": {},
   "outputs": [
    {
     "name": "stdout",
     "output_type": "stream",
     "text": [
      "[0, 1, 2, 3, 4, 5, 6, 7]\n",
      "[1, 1, 2, 3, 4, 5, 6, 7]\n",
      "[2, 2, 1, 2, 3, 4, 5, 6]\n",
      "[3, 3, 3, 1, 2, 3, 4, 5]\n",
      "[4, 4, 4, 3, 1, 2, 3, 4]\n",
      "[5, 5, 5, 5, 4, 2, 3, 4]\n",
      "[6, 6, 6, 6, 6, 5, 2, 3]\n",
      "Edit distance of 'kitten' and 'sitting' is 3\n"
     ]
    }
   ],
   "source": [
    "def print_mat_2d(mat):\n",
    "  for i in range(len(mat)): print(mat[i])\n",
    "\n",
    "#A,B = input(),input()\n",
    "A,B = \"kitten\",\"sitting\"\n",
    "la,lb = len(A),len(B)\n",
    "\n",
    "d=[[0 for _ in range(int(lb+1))] for _ in range(int(la+1))]\n",
    "for i in range(1,la+1): d[i][0]=i\n",
    "for i in range(1,lb+1): d[0][i]=i\n",
    "\n",
    "for i in range(1,la+1):\n",
    "  for j in range(1,lb+1):\n",
    "    d[i][j] = d[i-1][j-1] if A[i-1] == B[j-1] else min(min(d[i-1][j-1],d[i][j-1]),d[i-1][j-1])+1\n",
    "\n",
    "print_mat_2d(d)\n",
    "print(\"Edit distance of '\"+A+\"' and '\"+B+\"' is\", d[la][lb])"
   ]
  },
  {
   "cell_type": "code",
   "execution_count": null,
   "id": "4419e4c2",
   "metadata": {},
   "outputs": [],
   "source": []
  }
 ],
 "metadata": {
  "kernelspec": {
   "display_name": "Python 3",
   "language": "python",
   "name": "python3"
  },
  "language_info": {
   "codemirror_mode": {
    "name": "ipython",
    "version": 3
   },
   "file_extension": ".py",
   "mimetype": "text/x-python",
   "name": "python",
   "nbconvert_exporter": "python",
   "pygments_lexer": "ipython3",
   "version": "3.8.8"
  }
 },
 "nbformat": 4,
 "nbformat_minor": 5
}
